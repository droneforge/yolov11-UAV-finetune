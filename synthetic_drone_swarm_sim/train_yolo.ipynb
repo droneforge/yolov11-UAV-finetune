{
 "cells": [
  {
   "cell_type": "code",
   "execution_count": null,
   "id": "d329418b",
   "metadata": {},
   "outputs": [],
   "source": [
    "## Download the dataset from Roboflow\n",
    "\n",
    "from roboflow import Roboflow\n",
    "rf = Roboflow(api_key=\"<YOUR_API_KEY>\")\n",
    "project = rf.workspace(\"uavdetection-msr99\").project(\"uav-detection-blxxz\")\n",
    "version = project.version(3)\n",
    "dataset = version.download(\"yolov11\")"
   ]
  },
  {
   "cell_type": "code",
   "execution_count": null,
   "id": "d98f85aa",
   "metadata": {},
   "outputs": [],
   "source": [
    "## copy the synthetic simulation data to the training data\n",
    "## cp synthetic_drone_swarm_sim/outputs/my_swarm/images/*.jpg uav-detection-3/train/images/\n",
    "## cp synthetic_drone_swarm_sim/outputs/my_swarm/labels/*.txt uav-detection-3/train/labels/\n",
    "\n",
    "import shutil\n",
    "\n",
    "source_dir = \"/home/ubuntu/droneforge-synthetic-uavs/projects/synthetic_drone_swarm_sim/outputs/my_swarm/images\"\n",
    "target_dir = \"/home/ubuntu/droneforge-synthetic-uavs/projects/synthetic_drone_swarm_sim/uav-detection-3/train/images\"\n",
    "\n",
    "shutil.copytree(source_dir, target_dir)\n",
    "\n",
    "source_dir = \"/home/ubuntu/droneforge-synthetic-uavs/projects/synthetic_drone_swarm_sim/outputs/my_swarm/labels\"\n",
    "target_dir = \"/home/ubuntu/droneforge-synthetic-uavs/projects/synthetic_drone_swarm_sim/uav-detection-3/train/labels\"\n",
    "\n",
    "shutil.copytree(source_dir, target_dir)"
   ]
  },
  {
   "cell_type": "code",
   "execution_count": null,
   "id": "d843d9ae",
   "metadata": {},
   "outputs": [],
   "source": [
    "## train the ultralytics yolo model\n",
    "from ultralytics import YOLO\n",
    "\n",
    "# Load the pre-trained YOLO model\n",
    "model = YOLO(\"yolo12l.pt\")\n",
    "\n",
    "# Train the model on your custom dataset\n",
    "results = model.train(\n",
    "    data='/home/ubuntu/droneforge-synthetic-uavs/projects/synthetic_drone_swarm_sim/uav-detection-3/data.yaml',\n",
    "    epochs=100,\n",
    "    imgsz=640,\n",
    "    batch=64,\n",
    "    workers=6,\n",
    "    optimizer=\"Adam\",\n",
    "    lr0=3e-4\n",
    ")"
   ]
  }
 ],
 "metadata": {
  "language_info": {
   "name": "python"
  }
 },
 "nbformat": 4,
 "nbformat_minor": 5
}
